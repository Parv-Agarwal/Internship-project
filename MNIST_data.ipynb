{
  "nbformat": 4,
  "nbformat_minor": 0,
  "metadata": {
    "colab": {
      "provenance": [],
      "authorship_tag": "ABX9TyOpt/ItryowUnKtqyfsc6tY",
      "include_colab_link": true
    },
    "kernelspec": {
      "name": "python3",
      "display_name": "Python 3"
    },
    "language_info": {
      "name": "python"
    }
  },
  "cells": [
    {
      "cell_type": "markdown",
      "metadata": {
        "id": "view-in-github",
        "colab_type": "text"
      },
      "source": [
        "<a href=\"https://colab.research.google.com/github/Parv-Agarwal/Internship-project/blob/main/MNIST_data.ipynb\" target=\"_parent\"><img src=\"https://colab.research.google.com/assets/colab-badge.svg\" alt=\"Open In Colab\"/></a>"
      ]
    },
    {
      "cell_type": "code",
      "execution_count": null,
      "metadata": {
        "colab": {
          "base_uri": "https://localhost:8080/"
        },
        "id": "K3ZkjAtGwfpk",
        "outputId": "f699f2ad-5043-47dc-fd9d-258dd23daad1"
      },
      "outputs": [
        {
          "output_type": "stream",
          "name": "stdout",
          "text": [
            "Training data saved to /content/data/mnist_train.pt\n",
            "Test data saved to /content/data/mnist_test.pt\n",
            "Loaded training data shape: torch.Size([60000, 28, 28])\n",
            "Loaded training targets shape: torch.Size([60000])\n",
            "Loaded test data shape: torch.Size([10000, 28, 28])\n",
            "Loaded test targets shape: torch.Size([10000])\n"
          ]
        },
        {
          "output_type": "stream",
          "name": "stderr",
          "text": [
            "<ipython-input-5-aea9a35c41ef>:34: FutureWarning: You are using `torch.load` with `weights_only=False` (the current default value), which uses the default pickle module implicitly. It is possible to construct malicious pickle data which will execute arbitrary code during unpickling (See https://github.com/pytorch/pytorch/blob/main/SECURITY.md#untrusted-models for more details). In a future release, the default value for `weights_only` will be flipped to `True`. This limits the functions that could be executed during unpickling. Arbitrary objects will no longer be allowed to be loaded via this mode unless they are explicitly allowlisted by the user via `torch.serialization.add_safe_globals`. We recommend you start setting `weights_only=True` for any use case where you don't have full control of the loaded file. Please open an issue on GitHub for any issues related to this experimental feature.\n",
            "  loaded_train_data, loaded_train_targets = torch.load(train_pt_path)\n",
            "<ipython-input-5-aea9a35c41ef>:38: FutureWarning: You are using `torch.load` with `weights_only=False` (the current default value), which uses the default pickle module implicitly. It is possible to construct malicious pickle data which will execute arbitrary code during unpickling (See https://github.com/pytorch/pytorch/blob/main/SECURITY.md#untrusted-models for more details). In a future release, the default value for `weights_only` will be flipped to `True`. This limits the functions that could be executed during unpickling. Arbitrary objects will no longer be allowed to be loaded via this mode unless they are explicitly allowlisted by the user via `torch.serialization.add_safe_globals`. We recommend you start setting `weights_only=True` for any use case where you don't have full control of the loaded file. Please open an issue on GitHub for any issues related to this experimental feature.\n",
            "  loaded_test_data, loaded_test_targets = torch.load(test_pt_path)\n"
          ]
        }
      ],
      "source": [
        "import torch\n",
        "from torchvision import datasets, transforms\n",
        "import os\n",
        "\n",
        "# 1. Define the root directory\n",
        "root_dir = '/content/data'  # Change to '/content/drive/MyDrive/MNIST_data' to use Google Drive\n",
        "os.makedirs(root_dir, exist_ok=True)\n",
        "\n",
        "# 3. Download and load the datasets\n",
        "train_dataset = datasets.MNIST(\n",
        "    root=root_dir,\n",
        "    train=True,\n",
        "    download=True\n",
        ")\n",
        "\n",
        "test_dataset = datasets.MNIST(\n",
        "    root=root_dir,\n",
        "    train=False,\n",
        "    download=True\n",
        ")\n",
        "\n",
        "# 4. Define paths to save .pt files\n",
        "train_pt_path = os.path.join(root_dir, 'mnist_train.pt')\n",
        "test_pt_path = os.path.join(root_dir, 'mnist_test.pt')\n",
        "\n",
        "# 5. Save the datasets as .pt files\n",
        "torch.save((train_dataset.data, train_dataset.targets), train_pt_path)\n",
        "print(f\"Training data saved to {train_pt_path}\")\n",
        "\n",
        "torch.save((test_dataset.data, test_dataset.targets), test_pt_path)\n",
        "print(f\"Test data saved to {test_pt_path}\")\n",
        "\n",
        "# 6. Load the saved .pt files (optional demonstration)\n",
        "loaded_train_data, loaded_train_targets = torch.load(train_pt_path)\n",
        "print(f\"Loaded training data shape: {loaded_train_data.shape}\")\n",
        "print(f\"Loaded training targets shape: {loaded_train_targets.shape}\")\n",
        "\n",
        "loaded_test_data, loaded_test_targets = torch.load(test_pt_path)\n",
        "print(f\"Loaded test data shape: {loaded_test_data.shape}\")\n",
        "print(f\"Loaded test targets shape: {loaded_test_targets.shape}\")\n",
        "\n"
      ]
    },
    {
      "cell_type": "code",
      "source": [],
      "metadata": {
        "id": "KBQlcQVhww0n"
      },
      "execution_count": null,
      "outputs": []
    }
  ]
}